{
 "cells": [
  {
   "cell_type": "code",
   "execution_count": null,
   "metadata": {},
   "outputs": [],
   "source": [
    "import os\n",
    "import sys\n",
    "\n",
    "import glob"
   ]
  },
  {
   "cell_type": "code",
   "execution_count": null,
   "metadata": {},
   "outputs": [],
   "source": [
    "import numpy as np\n",
    "import pandas as pd\n",
    "\n",
    "import tqdm\n",
    "\n",
    "from PIL import Image"
   ]
  },
  {
   "cell_type": "code",
   "execution_count": null,
   "metadata": {},
   "outputs": [],
   "source": [
    "import openslide"
   ]
  },
  {
   "cell_type": "code",
   "execution_count": null,
   "metadata": {},
   "outputs": [],
   "source": [
    "def extract_short_slide_id_from_long_slide_id_file_name(long_slide_id_file_name: str):\n",
    "    return long_slide_id_file_name.split(\".\")[0]\n",
    "\n",
    "def extract_slide_id_from_csv_path(path_to_csv: str):\n",
    "    return os.path.basename(path_to_csv).split(\".\")[0]\n",
    "\n",
    "def extract_patient_id(slide_id: str):\n",
    "    return slide_id[:12]\n",
    "\n",
    "def extract_case_id(slide_id: str):\n",
    "    return slide_id[:15]\n",
    "\n",
    "def get_label_name(label_int: int):\n",
    "    return \"LUAD\" if label_int == 0 else \"LUSC\""
   ]
  },
  {
   "cell_type": "code",
   "execution_count": null,
   "metadata": {},
   "outputs": [],
   "source": [
    "TCGA_LUNG_CASES_FOLDER = '../../cases'\n",
    "# assumes that inside the TCGA_LUNG_CASES_FOLDER there are folders with the case ids as names and inside each of those folders there is a .svs file with the slide id as name\n",
    "tcga_slides_paths = glob.glob(f\"{TCGA_LUNG_CASES_FOLDER}/*/*.svs\")\n",
    "\n",
    "# folder where to save thumbnails - if it does not exist, it will be created\n",
    "THUMBNAILS_FOLDER = '../thumbnails'\n",
    "os.makedirs(THUMBNAILS_FOLDER, exist_ok=True)\n",
    "RECOMPUTE_THUMBNAILS = False\n",
    "THUMBNAIL_SMALLER_SIDE = 512 # pixels; aspect ratio will be preserved with the smaller side being equal to this value"
   ]
  },
  {
   "cell_type": "markdown",
   "metadata": {},
   "source": [
    "# Downloaded from TCGA"
   ]
  },
  {
   "cell_type": "markdown",
   "metadata": {},
   "source": [
    "## Check md5sum of downloaded slides agains manifest files"
   ]
  },
  {
   "cell_type": "code",
   "execution_count": null,
   "metadata": {},
   "outputs": [],
   "source": [
    "cancer_type_2_manifest_path = {\n",
    "    cancer_type: sorted(glob.glob(f\"./tcga-download/gdc_manifest.*-TCGA-{cancer_type}.txt\"))[-1] # get the latest manifest file\n",
    "    for cancer_type in ['LUAD', 'LUSC']                                                          # for each cancer type\n",
    "}\n",
    "\n",
    "# format of the path to the manifest files\n",
    "# luad_manifest_path = \"tcga-download/gdc_manifest.2021-11-03-TCGA-LUAD.txt\"\n",
    "# lusc_manifest_path = \"tcga-download/gdc_manifest.2021-11-03-TCGA-LUSC.txt\"\n",
    "\n",
    "slides_md5_path = './downloaded_md5sum_hashes.txt'\n",
    "cancer_type_2_manifest_path"
   ]
  },
  {
   "cell_type": "code",
   "execution_count": null,
   "metadata": {},
   "outputs": [],
   "source": [
    "manifest_filename_md5sum = {\n",
    "    \"slide_id_short\": [],\n",
    "    \"slide_md5sum\": [],\n",
    "    \"cancer_type\": [],\n",
    "}\n",
    "\n",
    "for cancer_type, manifest_path in cancer_type_2_manifest_path.items():\n",
    "\n",
    "    with open(manifest_path, 'r') as f:\n",
    "        for i, l in enumerate(f):\n",
    "            if i == 0:\n",
    "                continue\n",
    "            id, filname, md5, size, state = l.split()\n",
    "            short_slide_id = extract_short_slide_id_from_long_slide_id_file_name(filname)\n",
    "            # print(md5, short_slide_id)\n",
    "\n",
    "            manifest_filename_md5sum[\"slide_id_short\"].append(short_slide_id)\n",
    "            manifest_filename_md5sum[\"slide_md5sum\"].append(md5)\n",
    "            manifest_filename_md5sum[\"cancer_type\"].append(cancer_type)\n",
    "\n",
    "\n",
    "manifest_md5_df = pd.DataFrame(manifest_filename_md5sum).sort_values(\"slide_id_short\").reset_index(drop=True)\n",
    "manifest_md5_df"
   ]
  },
  {
   "cell_type": "code",
   "execution_count": null,
   "metadata": {},
   "outputs": [],
   "source": [
    "downloaded_filename_md5sum = {\n",
    "    \"slide_id_short\": [],\n",
    "    \"slide_md5sum\": []\n",
    "}\n",
    "\n",
    "with open(slides_md5_path, 'r') as f:\n",
    "    for l in f:\n",
    "        md5sum, slide_path = l.split()\n",
    "        short_slide_id = extract_short_slide_id_from_long_slide_id_file_name(os.path.basename(slide_path))\n",
    "        # print(md5sum, short_slide_id)\n",
    "\n",
    "        downloaded_filename_md5sum[\"slide_id_short\"].append(short_slide_id)\n",
    "        downloaded_filename_md5sum[\"slide_md5sum\"].append(md5sum)\n",
    "\n",
    "slides_md5_df = pd.DataFrame(downloaded_filename_md5sum).sort_values(\"slide_id_short\").reset_index(drop=True)\n",
    "slides_md5_df"
   ]
  },
  {
   "cell_type": "code",
   "execution_count": null,
   "metadata": {},
   "outputs": [],
   "source": [
    "assert (manifest_md5_df[[\"slide_id_short\", \"slide_md5sum\"]] == slides_md5_df[[\"slide_id_short\", \"slide_md5sum\"]]).all().all()"
   ]
  },
  {
   "cell_type": "markdown",
   "metadata": {},
   "source": [
    "## Downloaded slides - extract and save info"
   ]
  },
  {
   "cell_type": "code",
   "execution_count": null,
   "metadata": {},
   "outputs": [],
   "source": [
    "tcga_cases_paths = glob.glob(f\"{TCGA_LUNG_CASES_FOLDER}/*\")\n",
    "\n",
    "len(tcga_cases_paths), tcga_cases_paths"
   ]
  },
  {
   "cell_type": "code",
   "execution_count": null,
   "metadata": {},
   "outputs": [],
   "source": [
    "tcga_slides_paths = glob.glob(f\"{TCGA_LUNG_CASES_FOLDER}/*/*.svs\")\n",
    "\n",
    "len(tcga_slides_paths), tcga_slides_paths"
   ]
  },
  {
   "cell_type": "code",
   "execution_count": null,
   "metadata": {},
   "outputs": [],
   "source": [
    "saved_slides_df = pd.DataFrame(map(os.path.basename, tcga_slides_paths))\n",
    "saved_slides_df = saved_slides_df.rename(columns={0: \"slide_file_name\"})\n",
    "\n",
    "saved_slides_df[[\"slide_id_short\", \"slide_id_hash\"]] = saved_slides_df[\"slide_file_name\"].str.split(\".\", expand=True)[[0, 1]]\n",
    "saved_slides_df[\"case_id\"] = saved_slides_df[\"slide_id_short\"].apply(extract_case_id)\n",
    "saved_slides_df[\"patient_id\"] = saved_slides_df[\"slide_id_short\"].apply(extract_patient_id)\n",
    "\n",
    "# checks before merge\n",
    "assert set(saved_slides_df[\"slide_id_short\"]) == set(slides_md5_df[\"slide_id_short\"])\n",
    "assert len(saved_slides_df[\"slide_id_short\"]) == len(slides_md5_df[\"slide_id_short\"])\n",
    "saved_slides_df = saved_slides_df.merge(manifest_md5_df, on=[\"slide_id_short\"], how=\"inner\")\n",
    "\n",
    "saved_slides_df"
   ]
  },
  {
   "cell_type": "code",
   "execution_count": null,
   "metadata": {},
   "outputs": [],
   "source": [
    "# same results with slide_id_short, slide_id_long, slide_id_hash\n",
    "print(\"LUAD patients:\", saved_slides_df[saved_slides_df[\"cancer_type\"] == \"LUAD\"].patient_id.nunique())\n",
    "print(\"LUSC patients:\", saved_slides_df[saved_slides_df[\"cancer_type\"] == \"LUSC\"].patient_id.nunique())\n",
    "print(\"Total patients:\", saved_slides_df.patient_id.nunique())\n",
    "print()\n",
    "print(\"LUAD cases:\", saved_slides_df[saved_slides_df[\"cancer_type\"] == \"LUAD\"].case_id.nunique())\n",
    "print(\"LUSC cases:\", saved_slides_df[saved_slides_df[\"cancer_type\"] == \"LUSC\"].case_id.nunique())\n",
    "print(\"Total cases:\", saved_slides_df.case_id.nunique())\n",
    "print()\n",
    "print(\"LUAD slides:\", saved_slides_df[saved_slides_df[\"cancer_type\"] == \"LUAD\"].slide_id_short.nunique())\n",
    "print(\"LUSC sildes:\", saved_slides_df[saved_slides_df[\"cancer_type\"] == \"LUSC\"].slide_id_short.nunique())\n",
    "print(\"Total slides:\", saved_slides_df.slide_id_short.nunique())"
   ]
  },
  {
   "cell_type": "code",
   "execution_count": null,
   "metadata": {},
   "outputs": [],
   "source": [
    "saved_slides_df = saved_slides_df.sort_values([\"cancer_type\", \"slide_id_short\"]).reset_index(drop=True)\n",
    "\n",
    "saved_slides_df.to_csv(\"./classes_extended_info.csv\", index=False)\n",
    "saved_slides_df.to_csv(\"../classes_extended_info.csv\", index=False)"
   ]
  },
  {
   "cell_type": "markdown",
   "metadata": {},
   "source": [
    "## Make thumbnails of slides"
   ]
  },
  {
   "cell_type": "code",
   "execution_count": null,
   "metadata": {},
   "outputs": [],
   "source": [
    "if RECOMPUTE_THUMBNAILS:\n",
    "    for slide_path in tqdm.notebook.tqdm(tcga_slides_paths):\n",
    "        slide = openslide.OpenSlide(slide_path)\n",
    "        print(slide_path)\n",
    "        slide_id = os.path.basename(slide_path).split(\".\")[0]\n",
    "\n",
    "        thumbnain_path = f\"../thumbnails/{slide_id}.jpeg\"\n",
    "\n",
    "        h, w = slide.dimensions\n",
    "        h_small, w_small = np.array([h, w]) / min(h, w) * THUMBNAIL_SMALLER_SIDE\n",
    "\n",
    "        thumbnail = slide.get_thumbnail([int(h_small), int(w_small)])\n",
    "        thumbnail.save(thumbnain_path)\n",
    "        \n",
    "        slide.close()\n",
    "else:\n",
    "    print(\"Skipping thumbnails recomputation\")\n",
    "\n",
    "print(\"\\nThumbnails folder has {} files\".format(len(os.listdir(THUMBNAILS_FOLDER))))"
   ]
  },
  {
   "cell_type": "markdown",
   "metadata": {},
   "source": [
    "# DSMIL Google Drive and DSMIL GitHub"
   ]
  },
  {
   "cell_type": "markdown",
   "metadata": {},
   "source": [
    "## Google Drive"
   ]
  },
  {
   "cell_type": "code",
   "execution_count": null,
   "metadata": {},
   "outputs": [],
   "source": [
    "gdrive_test_df = pd.read_csv(\"dsmil-split/google-drive/TEST_ID.csv\")\n",
    "gdrive_test_df.columns = [\"slide_id_short\", \"label\"]"
   ]
  },
  {
   "cell_type": "code",
   "execution_count": null,
   "metadata": {},
   "outputs": [],
   "source": [
    "gdrive_test_df = pd.read_csv(\"dsmil-split/google-drive/TEST_ID.csv\")\n",
    "gdrive_test_df.columns = [\"slide_id_short\", \"label\"]\n",
    "gdrive_test_df['subset'] = \"TEST\"\n",
    "\n",
    "gdrive_excluded_df = pd.read_csv(\"dsmil-split/google-drive/EX_ID.csv\")\n",
    "gdrive_excluded_df['subset'] = \"EXCLUDED\"\n",
    "gdrive_excluded_df.columns = [\"slide_id_short\", \"subset\"]\n",
    "gdrive_luad_df = pd.read_csv(\"dsmil-split/google-drive/LUAD_ID.csv\")\n",
    "gdrive_luad_df['subset'] = \"LUAD\"\n",
    "gdrive_luad_df.columns = [\"slide_id_short\", \"subset\"]\n",
    "gdrive_lusc_df = pd.read_csv(\"dsmil-split/google-drive/LUSC_ID.csv\")\n",
    "gdrive_lusc_df['subset'] = \"LUSC\"\n",
    "gdrive_lusc_df.columns = [\"slide_id_short\", \"subset\"]\n",
    "\n",
    "\n",
    "# cobmination of luad, lusc and excluded\n",
    "gdrive_all_df = pd.concat([gdrive_excluded_df, gdrive_luad_df, gdrive_lusc_df]).reset_index(drop=True)\n",
    "gdrive_all_df.columns = [\"slide_id_short\", \"subset\"]\n",
    "gdrive_all_df[\"case_id\"] = gdrive_all_df[\"slide_id_short\"].apply(extract_case_id)\n",
    "gdrive_all_df[\"patient_id\"] = gdrive_all_df[\"slide_id_short\"].apply(extract_patient_id)\n",
    "gdrive_included_df = gdrive_all_df[gdrive_all_df[\"subset\"].isin([\"LUAD\", \"LUSC\"])].reset_index(drop=True)\n",
    "display(gdrive_all_df)\n",
    "print(len(gdrive_all_df))\n",
    "\n",
    "# assert luad, lusc and excluded are disjoint\n",
    "assert len(set(gdrive_luad_df[\"slide_id_short\"]).intersection(set(gdrive_lusc_df[\"slide_id_short\"]))) == 0\n",
    "assert len(set(gdrive_luad_df[\"slide_id_short\"]).intersection(set(gdrive_excluded_df[\"slide_id_short\"]))) == 0\n",
    "assert len(set(gdrive_lusc_df[\"slide_id_short\"]).intersection(set(gdrive_excluded_df[\"slide_id_short\"]))) == 0\n",
    "\n",
    "# assert that all 4 dataframes in google-drive are part of the all dataframe\n",
    "assert gdrive_luad_df[\"slide_id_short\"].isin(gdrive_all_df[\"slide_id_short\"]).all()\n",
    "assert gdrive_lusc_df[\"slide_id_short\"].isin(gdrive_all_df[\"slide_id_short\"]).all()\n",
    "assert gdrive_excluded_df[\"slide_id_short\"].isin(gdrive_all_df[\"slide_id_short\"]).all()\n",
    "assert gdrive_test_df[\"slide_id_short\"].isin(gdrive_all_df[\"slide_id_short\"]).all()\n",
    "\n",
    "# assert that the test dataframe is disjoint from the excluded dataframe\n",
    "# assert len(set(gdrive_test_df[\"slide_id_short\"]).intersection(set(gdrive_excluded_df[\"slide_id_short\"]))) == 0, \"test and excluded are not disjoint: {}\".format(set(gdrive_test_df[\"slide_id_short\"]).intersection(set(gdrive_excluded_df[\"slide_id_short\"])))"
   ]
  },
  {
   "cell_type": "code",
   "execution_count": null,
   "metadata": {},
   "outputs": [],
   "source": [
    "print(\"test and excluded are not disjoint: {}\".format(set(gdrive_test_df[\"slide_id_short\"]).intersection(set(gdrive_excluded_df[\"slide_id_short\"]))))"
   ]
  },
  {
   "cell_type": "code",
   "execution_count": null,
   "metadata": {},
   "outputs": [],
   "source": [
    "gdrive_all_df"
   ]
  },
  {
   "cell_type": "code",
   "execution_count": null,
   "metadata": {},
   "outputs": [],
   "source": [
    "print(\"LUAD patients:\", gdrive_all_df[gdrive_all_df[\"subset\"] == \"LUAD\"].patient_id.nunique())\n",
    "print(\"LUSC patients:\", gdrive_all_df[gdrive_all_df[\"subset\"] == \"LUSC\"].patient_id.nunique())\n",
    "print(\"Excluded patients:\", gdrive_all_df[gdrive_all_df[\"subset\"] == \"EXCLUDED\"].patient_id.nunique())\n",
    "print(\"Total patients:\", gdrive_all_df.patient_id.nunique())\n",
    "print()\n",
    "print(\"LUAD cases:\", gdrive_all_df[gdrive_all_df[\"subset\"] == \"LUAD\"].case_id.nunique())\n",
    "print(\"LUSC cases:\", gdrive_all_df[gdrive_all_df[\"subset\"] == \"LUSC\"].case_id.nunique())\n",
    "print(\"Excluded cases:\", gdrive_all_df[gdrive_all_df[\"subset\"] == \"EXCLUDED\"].case_id.nunique())\n",
    "print(\"Total cases:\", gdrive_all_df.case_id.nunique())\n",
    "print()\n",
    "print(\"LUAD slides:\", gdrive_all_df[gdrive_all_df[\"subset\"] == \"LUAD\"].slide_id_short.nunique())\n",
    "print(\"LUSC slides:\", gdrive_all_df[gdrive_all_df[\"subset\"] == \"LUSC\"].slide_id_short.nunique())\n",
    "print(\"Excluded slides:\", gdrive_all_df[gdrive_all_df[\"subset\"] == \"EXCLUDED\"].slide_id_short.nunique())\n",
    "print(\"Total slides:\", gdrive_all_df.slide_id_short.nunique())"
   ]
  },
  {
   "cell_type": "code",
   "execution_count": null,
   "metadata": {},
   "outputs": [],
   "source": [
    "gdrive_excluded_patients = set(gdrive_all_df[gdrive_all_df[\"subset\"] == \"EXCLUDED\"].patient_id)\n",
    "gdrive_excluded_cases = set(gdrive_all_df[gdrive_all_df[\"subset\"] == \"EXCLUDED\"].case_id)\n",
    "gdrive_excluded_slides = set(gdrive_all_df[gdrive_all_df[\"subset\"] == \"EXCLUDED\"].slide_id_short)\n",
    "\n",
    "print(\"Google Drive Excluded patients:\")\n",
    "print(gdrive_excluded_patients)\n",
    "print()\n",
    "print(\"Google Drive Excluded cases:\")\n",
    "print(gdrive_excluded_cases)\n",
    "print()\n",
    "print(\"Google Drive Excluded slides:\")\n",
    "print(gdrive_excluded_slides)\n",
    "\n",
    "if len(gdrive_excluded_slides) == len(gdrive_excluded_slides) == len(gdrive_excluded_slides):\n",
    "    display(\n",
    "        pd.DataFrame({\n",
    "        \"patient_id\": sorted(list(gdrive_excluded_patients)),\n",
    "        \"case_id\": sorted(list(gdrive_excluded_cases)),\n",
    "        \"slide_id_short\": sorted(list(gdrive_excluded_slides)),\n",
    "        })\n",
    "    )"
   ]
  },
  {
   "cell_type": "code",
   "execution_count": null,
   "metadata": {},
   "outputs": [],
   "source": [
    "assert set(saved_slides_df[\"patient_id\"]) == set(gdrive_all_df[\"patient_id\"])\n",
    "assert set(saved_slides_df[\"case_id\"]) == set(gdrive_all_df[\"case_id\"])\n",
    "assert set(saved_slides_df[\"slide_id_short\"]) == set(gdrive_all_df[\"slide_id_short\"])\n",
    "\n",
    "# merge saved_slides_df and gdrive_all_df on slide_id_short\n",
    "merged_df = saved_slides_df.merge(gdrive_all_df, on=[\"patient_id\", \"case_id\", \"slide_id_short\"], how=\"inner\")\n",
    "merged_df"
   ]
  },
  {
   "cell_type": "code",
   "execution_count": null,
   "metadata": {},
   "outputs": [],
   "source": [
    "merged_df[merged_df[\"cancer_type\"] != merged_df[\"subset\"]]"
   ]
  },
  {
   "cell_type": "markdown",
   "metadata": {},
   "source": [
    "## GitHub"
   ]
  },
  {
   "cell_type": "code",
   "execution_count": null,
   "metadata": {},
   "outputs": [],
   "source": [
    "github_luad_df = pd.read_csv(\"dsmil-split/repository-download-TCGA-lung-ms/LUAD.csv\")\n",
    "github_lusc_df = pd.read_csv(\"dsmil-split/repository-download-TCGA-lung-ms/LUSC.csv\")\n",
    "github_all_df = pd.read_csv(\"dsmil-split/repository-download-TCGA-lung-ms/TCGA-lung-ms.csv\")\n",
    "\n",
    "github_all_df[\"features_csv_file_path\"].iloc[0]"
   ]
  },
  {
   "cell_type": "code",
   "execution_count": null,
   "metadata": {},
   "outputs": [],
   "source": [
    "github_all_df[\"slide_id_short\"] = github_all_df[\"features_csv_file_path\"].apply(extract_slide_id_from_csv_path)\n",
    "github_all_df[\"case_id\"] = github_all_df[\"slide_id_short\"].apply(extract_case_id)\n",
    "github_all_df[\"patient_id\"] = github_all_df[\"slide_id_short\"].apply(extract_patient_id)\n",
    "github_all_df[\"label_name\"] = github_all_df[\"label\"].apply(get_label_name)\n",
    "\n",
    "assert github_all_df[\"case_id\"].isin(saved_slides_df[\"case_id\"]).all()\n",
    "assert github_all_df[\"slide_id_short\"].isin(saved_slides_df[\"slide_id_short\"]).all()\n",
    "\n",
    "display(github_all_df)"
   ]
  },
  {
   "cell_type": "code",
   "execution_count": null,
   "metadata": {},
   "outputs": [],
   "source": [
    "print(\"LUAD patients:\", github_all_df[github_all_df[\"label_name\"] == \"LUAD\"].patient_id.nunique())\n",
    "print(\"LUSC patients:\", github_all_df[github_all_df[\"label_name\"] == \"LUSC\"].patient_id.nunique())\n",
    "print(\"Total patients:\", github_all_df.patient_id.nunique())\n",
    "print()\n",
    "print(\"LUAD cases:\", github_all_df[github_all_df[\"label_name\"] == \"LUAD\"].case_id.nunique())\n",
    "print(\"LUSC cases:\", github_all_df[github_all_df[\"label_name\"] == \"LUSC\"].case_id.nunique())\n",
    "print(\"Total cases:\", github_all_df.case_id.nunique())\n",
    "print()\n",
    "print(\"LUAD slides:\", github_all_df[github_all_df[\"label_name\"] == \"LUAD\"].slide_id_short.nunique())\n",
    "print(\"LUSC slides:\", github_all_df[github_all_df[\"label_name\"] == \"LUSC\"].slide_id_short.nunique())\n",
    "print(\"Total slides:\", github_all_df.slide_id_short.nunique())"
   ]
  },
  {
   "cell_type": "code",
   "execution_count": null,
   "metadata": {},
   "outputs": [],
   "source": [
    "github_excluded_patients = set(saved_slides_df[\"patient_id\"]) - set(github_all_df[\"patient_id\"])\n",
    "github_excluded_cases = set(saved_slides_df[\"case_id\"]) - set(github_all_df[\"case_id\"])\n",
    "github_excluded_slides = set(saved_slides_df[\"slide_id_short\"]) - set(github_all_df[\"slide_id_short\"])\n",
    "\n",
    "print(\"GitHub Excluded patients:\")\n",
    "print(len(github_excluded_patients), github_excluded_patients)\n",
    "print()\n",
    "print(\"GitHub Excluded cases:\")\n",
    "print(len(github_excluded_cases), github_excluded_cases)\n",
    "print()\n",
    "print(\"GitHub Excluded slides:\")\n",
    "print(len(github_excluded_slides), github_excluded_slides)\n",
    "\n",
    "if len(github_excluded_patients) == len(github_excluded_cases) == len(github_excluded_slides):\n",
    "    display(\n",
    "        pd.DataFrame({\n",
    "        \"patient_id\": sorted(list(github_excluded_patients)),\n",
    "        \"case_id\": sorted(list(github_excluded_cases)),\n",
    "        \"slide_id_short\": sorted(list(github_excluded_slides)),\n",
    "        })\n",
    "    )"
   ]
  },
  {
   "cell_type": "markdown",
   "metadata": {},
   "source": [
    "## Google Drive vs GitHub"
   ]
  },
  {
   "cell_type": "code",
   "execution_count": null,
   "metadata": {},
   "outputs": [],
   "source": [
    "assert github_excluded_slides.issubset(gdrive_excluded_slides)\n",
    "assert set(gdrive_included_df.slide_id_short).issubset(set(github_all_df.slide_id_short))"
   ]
  },
  {
   "cell_type": "code",
   "execution_count": null,
   "metadata": {},
   "outputs": [],
   "source": [
    "set_name_2_set = {\n",
    "    \"GitHub and Google Drive Excluded\": github_excluded_slides,\n",
    "    \"Google Drive Only Excluded\": gdrive_excluded_slides - github_excluded_slides,\n",
    "}\n",
    "\n",
    "for set_name, set_ in set_name_2_set.items():\n",
    "    print(set_name)\n",
    "    for slide_id in set_:\n",
    "        print(slide_id)\n",
    "        thumbnain_path = f\"../thumbnails/{slide_id}.jpeg\"\n",
    "        display(Image.open(thumbnain_path))\n",
    "        print(\"=\"*100)\n",
    "    print(\"#\"*100)"
   ]
  },
  {
   "cell_type": "markdown",
   "metadata": {},
   "source": [
    "## GitHub Included vs Google Drive Test"
   ]
  },
  {
   "cell_type": "code",
   "execution_count": null,
   "metadata": {},
   "outputs": [],
   "source": [
    "# check that all slides in google drive's test set have not been excluded from the github dataset\n",
    "assert len(set(gdrive_test_df[\"slide_id_short\"]).intersection(github_excluded_slides)) == 0"
   ]
  },
  {
   "cell_type": "code",
   "execution_count": null,
   "metadata": {},
   "outputs": [],
   "source": [
    "# check that all slides in the google drive's test set are part of the github dataset\n",
    "assert gdrive_test_df[\"slide_id_short\"].isin(github_all_df[\"slide_id_short\"]).all()"
   ]
  },
  {
   "cell_type": "code",
   "execution_count": null,
   "metadata": {},
   "outputs": [],
   "source": []
  }
 ],
 "metadata": {
  "kernelspec": {
   "display_name": "dsmil",
   "language": "python",
   "name": "python3"
  },
  "language_info": {
   "codemirror_mode": {
    "name": "ipython",
    "version": 3
   },
   "file_extension": ".py",
   "mimetype": "text/x-python",
   "name": "python",
   "nbconvert_exporter": "python",
   "pygments_lexer": "ipython3",
   "version": "3.11.5"
  },
  "orig_nbformat": 4
 },
 "nbformat": 4,
 "nbformat_minor": 2
}
